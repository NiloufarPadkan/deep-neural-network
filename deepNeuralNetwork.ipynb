{
  "cells": [
    {
      "cell_type": "markdown",
      "metadata": {
        "id": "fXyB6m4hk5jU"
      },
      "source": [
        "# **پروژه اول درس یادگیری عمیق**\n",
        "\n",
        "---\n",
        " fateme padkan \n",
        "970122681002\n",
        "\n",
        "\n",
        "---"
      ]
    },
    {
      "cell_type": "markdown",
      "source": [
        "###  ◼ Preprocessing  "
      ],
      "metadata": {
        "id": "iCkUxCbLqVyU"
      }
    },
    {
      "cell_type": "code",
      "execution_count": null,
      "metadata": {
        "colab": {
          "base_uri": "https://localhost:8080/"
        },
        "id": "j7Lvkeo8kP9a",
        "outputId": "82558b82-86b4-41fc-af69-256fc23bf1b3"
      },
      "outputs": [
        {
          "output_type": "stream",
          "name": "stdout",
          "text": [
            "/usr/local/lib/python3.7/dist-packages/gdown/cli.py:131: FutureWarning: Option `--id` was deprecated in version 4.3.1 and will be removed in 5.0. You don't need to pass it anymore to use a file ID.\n",
            "  category=FutureWarning,\n",
            "Downloading...\n",
            "From: https://drive.google.com/uc?id=1-Zyp-JP3f9QhPKaErBkPPFNKaPS1v74u\n",
            "To: /content/Dataset.csv\n",
            "100% 38.0k/38.0k [00:00<00:00, 2.43MB/s]\n"
          ]
        }
      ],
      "source": [
        "import os\n",
        "import pandas as pd\n",
        "import seaborn as sns\n",
        "import numpy as np\n",
        "import matplotlib.pyplot as plt\n",
        "\n",
        "from sklearn.preprocessing import LabelEncoder\n",
        "from sklearn.model_selection import train_test_split\n",
        "\n",
        "!gdown --id 1-Zyp-JP3f9QhPKaErBkPPFNKaPS1v74u\n",
        "\n",
        "categorical_attr = ['gender', 'NationalITy', 'PlaceofBirth', 'StageID', 'GradeID', 'SectionID', 'Topic', 'Semester', 'Relation', 'ParentAnsweringSurvey', 'ParentschoolSatisfaction', 'StudentAbsenceDays', 'Class']"
      ]
    },
    {
      "cell_type": "markdown",
      "metadata": {
        "id": "PpbcPD9Vk6d5"
      },
      "source": [
        ""
      ]
    },
    {
      "cell_type": "code",
      "execution_count": null,
      "metadata": {
        "colab": {
          "base_uri": "https://localhost:8080/",
          "height": 250
        },
        "id": "VlWFj_XCkb3H",
        "outputId": "9d1b8256-72f1-4405-f8d0-f24a7b520e95"
      },
      "outputs": [
        {
          "output_type": "execute_result",
          "data": {
            "text/plain": [
              "  gender NationalITy PlaceofBirth     StageID GradeID SectionID Topic  \\\n",
              "0      M          KW       KuwaIT  lowerlevel    G-04         A    IT   \n",
              "1      M          KW       KuwaIT  lowerlevel    G-04         A    IT   \n",
              "2      M          KW       KuwaIT  lowerlevel    G-04         A    IT   \n",
              "3      M          KW       KuwaIT  lowerlevel    G-04         A    IT   \n",
              "4      M          KW       KuwaIT  lowerlevel    G-04         A    IT   \n",
              "\n",
              "  Semester Relation  raisedhands  VisITedResources  AnnouncementsView  \\\n",
              "0        F   Father           15                16                  2   \n",
              "1        F   Father           20                20                  3   \n",
              "2        F   Father           10                 7                  0   \n",
              "3        F   Father           30                25                  5   \n",
              "4        F   Father           40                50                 12   \n",
              "\n",
              "   Discussion ParentAnsweringSurvey ParentschoolSatisfaction  \\\n",
              "0          20                   Yes                     Good   \n",
              "1          25                   Yes                     Good   \n",
              "2          30                    No                      Bad   \n",
              "3          35                    No                      Bad   \n",
              "4          50                    No                      Bad   \n",
              "\n",
              "  StudentAbsenceDays Class  \n",
              "0            Under-7     M  \n",
              "1            Under-7     M  \n",
              "2            Above-7     L  \n",
              "3            Above-7     L  \n",
              "4            Above-7     M  "
            ],
            "text/html": [
              "\n",
              "  <div id=\"df-73d0c52b-f2a1-4aa3-8421-4e61fe04fe11\">\n",
              "    <div class=\"colab-df-container\">\n",
              "      <div>\n",
              "<style scoped>\n",
              "    .dataframe tbody tr th:only-of-type {\n",
              "        vertical-align: middle;\n",
              "    }\n",
              "\n",
              "    .dataframe tbody tr th {\n",
              "        vertical-align: top;\n",
              "    }\n",
              "\n",
              "    .dataframe thead th {\n",
              "        text-align: right;\n",
              "    }\n",
              "</style>\n",
              "<table border=\"1\" class=\"dataframe\">\n",
              "  <thead>\n",
              "    <tr style=\"text-align: right;\">\n",
              "      <th></th>\n",
              "      <th>gender</th>\n",
              "      <th>NationalITy</th>\n",
              "      <th>PlaceofBirth</th>\n",
              "      <th>StageID</th>\n",
              "      <th>GradeID</th>\n",
              "      <th>SectionID</th>\n",
              "      <th>Topic</th>\n",
              "      <th>Semester</th>\n",
              "      <th>Relation</th>\n",
              "      <th>raisedhands</th>\n",
              "      <th>VisITedResources</th>\n",
              "      <th>AnnouncementsView</th>\n",
              "      <th>Discussion</th>\n",
              "      <th>ParentAnsweringSurvey</th>\n",
              "      <th>ParentschoolSatisfaction</th>\n",
              "      <th>StudentAbsenceDays</th>\n",
              "      <th>Class</th>\n",
              "    </tr>\n",
              "  </thead>\n",
              "  <tbody>\n",
              "    <tr>\n",
              "      <th>0</th>\n",
              "      <td>M</td>\n",
              "      <td>KW</td>\n",
              "      <td>KuwaIT</td>\n",
              "      <td>lowerlevel</td>\n",
              "      <td>G-04</td>\n",
              "      <td>A</td>\n",
              "      <td>IT</td>\n",
              "      <td>F</td>\n",
              "      <td>Father</td>\n",
              "      <td>15</td>\n",
              "      <td>16</td>\n",
              "      <td>2</td>\n",
              "      <td>20</td>\n",
              "      <td>Yes</td>\n",
              "      <td>Good</td>\n",
              "      <td>Under-7</td>\n",
              "      <td>M</td>\n",
              "    </tr>\n",
              "    <tr>\n",
              "      <th>1</th>\n",
              "      <td>M</td>\n",
              "      <td>KW</td>\n",
              "      <td>KuwaIT</td>\n",
              "      <td>lowerlevel</td>\n",
              "      <td>G-04</td>\n",
              "      <td>A</td>\n",
              "      <td>IT</td>\n",
              "      <td>F</td>\n",
              "      <td>Father</td>\n",
              "      <td>20</td>\n",
              "      <td>20</td>\n",
              "      <td>3</td>\n",
              "      <td>25</td>\n",
              "      <td>Yes</td>\n",
              "      <td>Good</td>\n",
              "      <td>Under-7</td>\n",
              "      <td>M</td>\n",
              "    </tr>\n",
              "    <tr>\n",
              "      <th>2</th>\n",
              "      <td>M</td>\n",
              "      <td>KW</td>\n",
              "      <td>KuwaIT</td>\n",
              "      <td>lowerlevel</td>\n",
              "      <td>G-04</td>\n",
              "      <td>A</td>\n",
              "      <td>IT</td>\n",
              "      <td>F</td>\n",
              "      <td>Father</td>\n",
              "      <td>10</td>\n",
              "      <td>7</td>\n",
              "      <td>0</td>\n",
              "      <td>30</td>\n",
              "      <td>No</td>\n",
              "      <td>Bad</td>\n",
              "      <td>Above-7</td>\n",
              "      <td>L</td>\n",
              "    </tr>\n",
              "    <tr>\n",
              "      <th>3</th>\n",
              "      <td>M</td>\n",
              "      <td>KW</td>\n",
              "      <td>KuwaIT</td>\n",
              "      <td>lowerlevel</td>\n",
              "      <td>G-04</td>\n",
              "      <td>A</td>\n",
              "      <td>IT</td>\n",
              "      <td>F</td>\n",
              "      <td>Father</td>\n",
              "      <td>30</td>\n",
              "      <td>25</td>\n",
              "      <td>5</td>\n",
              "      <td>35</td>\n",
              "      <td>No</td>\n",
              "      <td>Bad</td>\n",
              "      <td>Above-7</td>\n",
              "      <td>L</td>\n",
              "    </tr>\n",
              "    <tr>\n",
              "      <th>4</th>\n",
              "      <td>M</td>\n",
              "      <td>KW</td>\n",
              "      <td>KuwaIT</td>\n",
              "      <td>lowerlevel</td>\n",
              "      <td>G-04</td>\n",
              "      <td>A</td>\n",
              "      <td>IT</td>\n",
              "      <td>F</td>\n",
              "      <td>Father</td>\n",
              "      <td>40</td>\n",
              "      <td>50</td>\n",
              "      <td>12</td>\n",
              "      <td>50</td>\n",
              "      <td>No</td>\n",
              "      <td>Bad</td>\n",
              "      <td>Above-7</td>\n",
              "      <td>M</td>\n",
              "    </tr>\n",
              "  </tbody>\n",
              "</table>\n",
              "</div>\n",
              "      <button class=\"colab-df-convert\" onclick=\"convertToInteractive('df-73d0c52b-f2a1-4aa3-8421-4e61fe04fe11')\"\n",
              "              title=\"Convert this dataframe to an interactive table.\"\n",
              "              style=\"display:none;\">\n",
              "        \n",
              "  <svg xmlns=\"http://www.w3.org/2000/svg\" height=\"24px\"viewBox=\"0 0 24 24\"\n",
              "       width=\"24px\">\n",
              "    <path d=\"M0 0h24v24H0V0z\" fill=\"none\"/>\n",
              "    <path d=\"M18.56 5.44l.94 2.06.94-2.06 2.06-.94-2.06-.94-.94-2.06-.94 2.06-2.06.94zm-11 1L8.5 8.5l.94-2.06 2.06-.94-2.06-.94L8.5 2.5l-.94 2.06-2.06.94zm10 10l.94 2.06.94-2.06 2.06-.94-2.06-.94-.94-2.06-.94 2.06-2.06.94z\"/><path d=\"M17.41 7.96l-1.37-1.37c-.4-.4-.92-.59-1.43-.59-.52 0-1.04.2-1.43.59L10.3 9.45l-7.72 7.72c-.78.78-.78 2.05 0 2.83L4 21.41c.39.39.9.59 1.41.59.51 0 1.02-.2 1.41-.59l7.78-7.78 2.81-2.81c.8-.78.8-2.07 0-2.86zM5.41 20L4 18.59l7.72-7.72 1.47 1.35L5.41 20z\"/>\n",
              "  </svg>\n",
              "      </button>\n",
              "      \n",
              "  <style>\n",
              "    .colab-df-container {\n",
              "      display:flex;\n",
              "      flex-wrap:wrap;\n",
              "      gap: 12px;\n",
              "    }\n",
              "\n",
              "    .colab-df-convert {\n",
              "      background-color: #E8F0FE;\n",
              "      border: none;\n",
              "      border-radius: 50%;\n",
              "      cursor: pointer;\n",
              "      display: none;\n",
              "      fill: #1967D2;\n",
              "      height: 32px;\n",
              "      padding: 0 0 0 0;\n",
              "      width: 32px;\n",
              "    }\n",
              "\n",
              "    .colab-df-convert:hover {\n",
              "      background-color: #E2EBFA;\n",
              "      box-shadow: 0px 1px 2px rgba(60, 64, 67, 0.3), 0px 1px 3px 1px rgba(60, 64, 67, 0.15);\n",
              "      fill: #174EA6;\n",
              "    }\n",
              "\n",
              "    [theme=dark] .colab-df-convert {\n",
              "      background-color: #3B4455;\n",
              "      fill: #D2E3FC;\n",
              "    }\n",
              "\n",
              "    [theme=dark] .colab-df-convert:hover {\n",
              "      background-color: #434B5C;\n",
              "      box-shadow: 0px 1px 3px 1px rgba(0, 0, 0, 0.15);\n",
              "      filter: drop-shadow(0px 1px 2px rgba(0, 0, 0, 0.3));\n",
              "      fill: #FFFFFF;\n",
              "    }\n",
              "  </style>\n",
              "\n",
              "      <script>\n",
              "        const buttonEl =\n",
              "          document.querySelector('#df-73d0c52b-f2a1-4aa3-8421-4e61fe04fe11 button.colab-df-convert');\n",
              "        buttonEl.style.display =\n",
              "          google.colab.kernel.accessAllowed ? 'block' : 'none';\n",
              "\n",
              "        async function convertToInteractive(key) {\n",
              "          const element = document.querySelector('#df-73d0c52b-f2a1-4aa3-8421-4e61fe04fe11');\n",
              "          const dataTable =\n",
              "            await google.colab.kernel.invokeFunction('convertToInteractive',\n",
              "                                                     [key], {});\n",
              "          if (!dataTable) return;\n",
              "\n",
              "          const docLinkHtml = 'Like what you see? Visit the ' +\n",
              "            '<a target=\"_blank\" href=https://colab.research.google.com/notebooks/data_table.ipynb>data table notebook</a>'\n",
              "            + ' to learn more about interactive tables.';\n",
              "          element.innerHTML = '';\n",
              "          dataTable['output_type'] = 'display_data';\n",
              "          await google.colab.output.renderOutput(dataTable, element);\n",
              "          const docLink = document.createElement('div');\n",
              "          docLink.innerHTML = docLinkHtml;\n",
              "          element.appendChild(docLink);\n",
              "        }\n",
              "      </script>\n",
              "    </div>\n",
              "  </div>\n",
              "  "
            ]
          },
          "metadata": {},
          "execution_count": 90
        }
      ],
      "source": [
        "df = pd.read_csv('/content/Dataset.csv')\n",
        "df.head()\n"
      ]
    },
    {
      "cell_type": "code",
      "execution_count": null,
      "metadata": {
        "colab": {
          "base_uri": "https://localhost:8080/"
        },
        "id": "UmhpmlG7kk4f",
        "outputId": "b354d10c-6922-4c07-9ead-4cf56a38ba6b"
      },
      "outputs": [
        {
          "output_type": "stream",
          "name": "stdout",
          "text": [
            "(480, 17)\n"
          ]
        }
      ],
      "source": [
        "print(df.shape)"
      ]
    },
    {
      "cell_type": "code",
      "execution_count": null,
      "metadata": {
        "id": "ET9nW-LSkoWC"
      },
      "outputs": [],
      "source": [
        "# Converting Categorical values to scaler values\n",
        "le = LabelEncoder()\n",
        "df[categorical_attr] = df[categorical_attr].apply(le.fit_transform, axis=0)"
      ]
    },
    {
      "cell_type": "code",
      "execution_count": null,
      "metadata": {
        "colab": {
          "base_uri": "https://localhost:8080/",
          "height": 250
        },
        "id": "icN67SXCkqTo",
        "outputId": "d6ed77dd-0062-4eca-bb33-04ba5a1e1333"
      },
      "outputs": [
        {
          "output_type": "execute_result",
          "data": {
            "text/plain": [
              "   gender  NationalITy  PlaceofBirth  StageID  GradeID  SectionID  Topic  \\\n",
              "0       1            4             4        2        1          0      7   \n",
              "1       1            4             4        2        1          0      7   \n",
              "2       1            4             4        2        1          0      7   \n",
              "3       1            4             4        2        1          0      7   \n",
              "4       1            4             4        2        1          0      7   \n",
              "\n",
              "   Semester  Relation  raisedhands  VisITedResources  AnnouncementsView  \\\n",
              "0         0         0           15                16                  2   \n",
              "1         0         0           20                20                  3   \n",
              "2         0         0           10                 7                  0   \n",
              "3         0         0           30                25                  5   \n",
              "4         0         0           40                50                 12   \n",
              "\n",
              "   Discussion  ParentAnsweringSurvey  ParentschoolSatisfaction  \\\n",
              "0          20                      1                         1   \n",
              "1          25                      1                         1   \n",
              "2          30                      0                         0   \n",
              "3          35                      0                         0   \n",
              "4          50                      0                         0   \n",
              "\n",
              "   StudentAbsenceDays  Class  \n",
              "0                   1      2  \n",
              "1                   1      2  \n",
              "2                   0      1  \n",
              "3                   0      1  \n",
              "4                   0      2  "
            ],
            "text/html": [
              "\n",
              "  <div id=\"df-64691194-d8d1-4b63-bf56-b158d428665f\">\n",
              "    <div class=\"colab-df-container\">\n",
              "      <div>\n",
              "<style scoped>\n",
              "    .dataframe tbody tr th:only-of-type {\n",
              "        vertical-align: middle;\n",
              "    }\n",
              "\n",
              "    .dataframe tbody tr th {\n",
              "        vertical-align: top;\n",
              "    }\n",
              "\n",
              "    .dataframe thead th {\n",
              "        text-align: right;\n",
              "    }\n",
              "</style>\n",
              "<table border=\"1\" class=\"dataframe\">\n",
              "  <thead>\n",
              "    <tr style=\"text-align: right;\">\n",
              "      <th></th>\n",
              "      <th>gender</th>\n",
              "      <th>NationalITy</th>\n",
              "      <th>PlaceofBirth</th>\n",
              "      <th>StageID</th>\n",
              "      <th>GradeID</th>\n",
              "      <th>SectionID</th>\n",
              "      <th>Topic</th>\n",
              "      <th>Semester</th>\n",
              "      <th>Relation</th>\n",
              "      <th>raisedhands</th>\n",
              "      <th>VisITedResources</th>\n",
              "      <th>AnnouncementsView</th>\n",
              "      <th>Discussion</th>\n",
              "      <th>ParentAnsweringSurvey</th>\n",
              "      <th>ParentschoolSatisfaction</th>\n",
              "      <th>StudentAbsenceDays</th>\n",
              "      <th>Class</th>\n",
              "    </tr>\n",
              "  </thead>\n",
              "  <tbody>\n",
              "    <tr>\n",
              "      <th>0</th>\n",
              "      <td>1</td>\n",
              "      <td>4</td>\n",
              "      <td>4</td>\n",
              "      <td>2</td>\n",
              "      <td>1</td>\n",
              "      <td>0</td>\n",
              "      <td>7</td>\n",
              "      <td>0</td>\n",
              "      <td>0</td>\n",
              "      <td>15</td>\n",
              "      <td>16</td>\n",
              "      <td>2</td>\n",
              "      <td>20</td>\n",
              "      <td>1</td>\n",
              "      <td>1</td>\n",
              "      <td>1</td>\n",
              "      <td>2</td>\n",
              "    </tr>\n",
              "    <tr>\n",
              "      <th>1</th>\n",
              "      <td>1</td>\n",
              "      <td>4</td>\n",
              "      <td>4</td>\n",
              "      <td>2</td>\n",
              "      <td>1</td>\n",
              "      <td>0</td>\n",
              "      <td>7</td>\n",
              "      <td>0</td>\n",
              "      <td>0</td>\n",
              "      <td>20</td>\n",
              "      <td>20</td>\n",
              "      <td>3</td>\n",
              "      <td>25</td>\n",
              "      <td>1</td>\n",
              "      <td>1</td>\n",
              "      <td>1</td>\n",
              "      <td>2</td>\n",
              "    </tr>\n",
              "    <tr>\n",
              "      <th>2</th>\n",
              "      <td>1</td>\n",
              "      <td>4</td>\n",
              "      <td>4</td>\n",
              "      <td>2</td>\n",
              "      <td>1</td>\n",
              "      <td>0</td>\n",
              "      <td>7</td>\n",
              "      <td>0</td>\n",
              "      <td>0</td>\n",
              "      <td>10</td>\n",
              "      <td>7</td>\n",
              "      <td>0</td>\n",
              "      <td>30</td>\n",
              "      <td>0</td>\n",
              "      <td>0</td>\n",
              "      <td>0</td>\n",
              "      <td>1</td>\n",
              "    </tr>\n",
              "    <tr>\n",
              "      <th>3</th>\n",
              "      <td>1</td>\n",
              "      <td>4</td>\n",
              "      <td>4</td>\n",
              "      <td>2</td>\n",
              "      <td>1</td>\n",
              "      <td>0</td>\n",
              "      <td>7</td>\n",
              "      <td>0</td>\n",
              "      <td>0</td>\n",
              "      <td>30</td>\n",
              "      <td>25</td>\n",
              "      <td>5</td>\n",
              "      <td>35</td>\n",
              "      <td>0</td>\n",
              "      <td>0</td>\n",
              "      <td>0</td>\n",
              "      <td>1</td>\n",
              "    </tr>\n",
              "    <tr>\n",
              "      <th>4</th>\n",
              "      <td>1</td>\n",
              "      <td>4</td>\n",
              "      <td>4</td>\n",
              "      <td>2</td>\n",
              "      <td>1</td>\n",
              "      <td>0</td>\n",
              "      <td>7</td>\n",
              "      <td>0</td>\n",
              "      <td>0</td>\n",
              "      <td>40</td>\n",
              "      <td>50</td>\n",
              "      <td>12</td>\n",
              "      <td>50</td>\n",
              "      <td>0</td>\n",
              "      <td>0</td>\n",
              "      <td>0</td>\n",
              "      <td>2</td>\n",
              "    </tr>\n",
              "  </tbody>\n",
              "</table>\n",
              "</div>\n",
              "      <button class=\"colab-df-convert\" onclick=\"convertToInteractive('df-64691194-d8d1-4b63-bf56-b158d428665f')\"\n",
              "              title=\"Convert this dataframe to an interactive table.\"\n",
              "              style=\"display:none;\">\n",
              "        \n",
              "  <svg xmlns=\"http://www.w3.org/2000/svg\" height=\"24px\"viewBox=\"0 0 24 24\"\n",
              "       width=\"24px\">\n",
              "    <path d=\"M0 0h24v24H0V0z\" fill=\"none\"/>\n",
              "    <path d=\"M18.56 5.44l.94 2.06.94-2.06 2.06-.94-2.06-.94-.94-2.06-.94 2.06-2.06.94zm-11 1L8.5 8.5l.94-2.06 2.06-.94-2.06-.94L8.5 2.5l-.94 2.06-2.06.94zm10 10l.94 2.06.94-2.06 2.06-.94-2.06-.94-.94-2.06-.94 2.06-2.06.94z\"/><path d=\"M17.41 7.96l-1.37-1.37c-.4-.4-.92-.59-1.43-.59-.52 0-1.04.2-1.43.59L10.3 9.45l-7.72 7.72c-.78.78-.78 2.05 0 2.83L4 21.41c.39.39.9.59 1.41.59.51 0 1.02-.2 1.41-.59l7.78-7.78 2.81-2.81c.8-.78.8-2.07 0-2.86zM5.41 20L4 18.59l7.72-7.72 1.47 1.35L5.41 20z\"/>\n",
              "  </svg>\n",
              "      </button>\n",
              "      \n",
              "  <style>\n",
              "    .colab-df-container {\n",
              "      display:flex;\n",
              "      flex-wrap:wrap;\n",
              "      gap: 12px;\n",
              "    }\n",
              "\n",
              "    .colab-df-convert {\n",
              "      background-color: #E8F0FE;\n",
              "      border: none;\n",
              "      border-radius: 50%;\n",
              "      cursor: pointer;\n",
              "      display: none;\n",
              "      fill: #1967D2;\n",
              "      height: 32px;\n",
              "      padding: 0 0 0 0;\n",
              "      width: 32px;\n",
              "    }\n",
              "\n",
              "    .colab-df-convert:hover {\n",
              "      background-color: #E2EBFA;\n",
              "      box-shadow: 0px 1px 2px rgba(60, 64, 67, 0.3), 0px 1px 3px 1px rgba(60, 64, 67, 0.15);\n",
              "      fill: #174EA6;\n",
              "    }\n",
              "\n",
              "    [theme=dark] .colab-df-convert {\n",
              "      background-color: #3B4455;\n",
              "      fill: #D2E3FC;\n",
              "    }\n",
              "\n",
              "    [theme=dark] .colab-df-convert:hover {\n",
              "      background-color: #434B5C;\n",
              "      box-shadow: 0px 1px 3px 1px rgba(0, 0, 0, 0.15);\n",
              "      filter: drop-shadow(0px 1px 2px rgba(0, 0, 0, 0.3));\n",
              "      fill: #FFFFFF;\n",
              "    }\n",
              "  </style>\n",
              "\n",
              "      <script>\n",
              "        const buttonEl =\n",
              "          document.querySelector('#df-64691194-d8d1-4b63-bf56-b158d428665f button.colab-df-convert');\n",
              "        buttonEl.style.display =\n",
              "          google.colab.kernel.accessAllowed ? 'block' : 'none';\n",
              "\n",
              "        async function convertToInteractive(key) {\n",
              "          const element = document.querySelector('#df-64691194-d8d1-4b63-bf56-b158d428665f');\n",
              "          const dataTable =\n",
              "            await google.colab.kernel.invokeFunction('convertToInteractive',\n",
              "                                                     [key], {});\n",
              "          if (!dataTable) return;\n",
              "\n",
              "          const docLinkHtml = 'Like what you see? Visit the ' +\n",
              "            '<a target=\"_blank\" href=https://colab.research.google.com/notebooks/data_table.ipynb>data table notebook</a>'\n",
              "            + ' to learn more about interactive tables.';\n",
              "          element.innerHTML = '';\n",
              "          dataTable['output_type'] = 'display_data';\n",
              "          await google.colab.output.renderOutput(dataTable, element);\n",
              "          const docLink = document.createElement('div');\n",
              "          docLink.innerHTML = docLinkHtml;\n",
              "          element.appendChild(docLink);\n",
              "        }\n",
              "      </script>\n",
              "    </div>\n",
              "  </div>\n",
              "  "
            ]
          },
          "metadata": {},
          "execution_count": 93
        }
      ],
      "source": [
        "df.head()"
      ]
    },
    {
      "cell_type": "code",
      "execution_count": null,
      "metadata": {
        "id": "LSAJtfBRktzK"
      },
      "outputs": [],
      "source": [
        "# X: Features, y: Classes\n",
        "X = np.array(df.iloc[:, :-1])\n",
        "y = np.array(df['Class'])"
      ]
    },
    {
      "cell_type": "markdown",
      "metadata": {
        "id": "F3prh-kBuXgG"
      },
      "source": [
        "\n",
        "### ◼ lables must  be 0 or 1\n"
      ]
    },
    {
      "cell_type": "code",
      "execution_count": null,
      "metadata": {
        "id": "yoz0HFq47sz0"
      },
      "outputs": [],
      "source": [
        "temp=np.amax(X, axis=0)\n",
        "X= X/temp\n",
        "\n",
        "for i in range(0,len(y)) : #H,M pass    L=fail\n",
        "  \n",
        "  if y[i]>0 :\n",
        "     y[i]=1\n",
        "  else :\n",
        "     y[i]=0\n"
      ]
    },
    {
      "cell_type": "code",
      "execution_count": null,
      "metadata": {
        "id": "N6QauapCkv0I"
      },
      "outputs": [],
      "source": [
        "X_train, X_val, y_train, y_val = train_test_split(X, y, test_size=0.2, random_state=12)\n",
        "X_train = X_train.T\n",
        "X_val = X_val.T\n",
        "y_train = y_train.T.reshape(1, len(y_train))\n",
        "y_val = y_val.T.reshape(1, len(y_val))"
      ]
    },
    {
      "cell_type": "code",
      "execution_count": null,
      "metadata": {
        "colab": {
          "base_uri": "https://localhost:8080/"
        },
        "id": "NekPh9RNkx6l",
        "outputId": "5eec6e71-b895-4f22-bbdd-d9ba7bd13f03"
      },
      "outputs": [
        {
          "output_type": "stream",
          "name": "stdout",
          "text": [
            "Number of dataset:  480\n",
            "Number of train set:  16\n",
            "Number of validation set:  16\n"
          ]
        }
      ],
      "source": [
        "print('Number of dataset: ', len(X))\n",
        "print('Number of train set: ', len(X_train))\n",
        "print('Number of validation set: ', len(X_val))"
      ]
    },
    {
      "cell_type": "markdown",
      "source": [
        "### ◼ math utils\n"
      ],
      "metadata": {
        "id": "UVk0hf5CrH8J"
      }
    },
    {
      "cell_type": "code",
      "source": [
        "\n",
        "def sigmoid(Z):\n",
        "\n",
        "    A = 1/(1+np.exp(-Z))  \n",
        "    return A\n",
        "\n",
        "\n",
        "\n",
        "def sigmoid_backward(dA, cache):\n",
        "   \n",
        "    \n",
        "    Z = cache\n",
        "    \n",
        "    s = 1/(1+np.exp(-Z))\n",
        "    dZ = dA * s * (1-s)\n",
        "    \n",
        "    \n",
        "    return dZ\n",
        "\n",
        "def relu(Z):\n",
        "    A=np.where(np.asarray(Z) > 0, Z, 0)\n",
        "    \n",
        "    return A\n",
        "def relu_backward(dA, cache):\n",
        "   \n",
        "    Z = cache\n",
        "    dZ = np.array(dA, copy=True) \n",
        "    \n",
        "    dZ[Z <= 0] = 0\n",
        "        \n",
        "    return dZ\n",
        "\n"
      ],
      "metadata": {
        "id": "fdtqwqgkuP_4"
      },
      "execution_count": null,
      "outputs": []
    },
    {
      "cell_type": "markdown",
      "source": [
        "\n",
        "### ◼ *in predict function :* \n",
        "\n",
        "\n",
        "⭕ **converting output of forward function to 0,1** \n",
        "\n",
        "\n",
        "> input:\n",
        "\n",
        "*  shape : shape of train or validation data . \n",
        "\n",
        " ✅    we need it for making a predict matrix which is [1][shape[1]]\n",
        "\n",
        "\n",
        "\n",
        "*   Y : train or validation Y\n",
        "\n",
        "*    output: output of forward prpopagation \n",
        "\n",
        "\n",
        "\n",
        "\n",
        "\n",
        "> output:\n",
        "\n",
        "* p : predict matrix \n",
        "\n",
        "\n",
        "\n",
        "\n",
        "\n",
        "\n",
        "\n",
        "\n",
        "\n",
        "\n",
        "\n",
        "\n"
      ],
      "metadata": {
        "id": "MuXXIr8-KMyE"
      }
    },
    {
      "cell_type": "code",
      "execution_count": null,
      "metadata": {
        "id": "b9pCSEwtxjxA"
      },
      "outputs": [],
      "source": [
        "def predict( shape,Y, output):\n",
        "    p = np.zeros((1,shape[1]))\n",
        "    for i in range(0, output.shape[1]):\n",
        "        if output[0,i] > 0.5:\n",
        "            p[0][i] = 1\n",
        "        else:\n",
        "            p[0][i] = 0\n",
        "                   \n",
        "    return p"
      ]
    },
    {
      "cell_type": "markdown",
      "metadata": {
        "id": "s66mPkcnfhAO"
      },
      "source": [
        "### ◼ forward Function for l layer:\n",
        "\n",
        " \n",
        "\n",
        "> input:\n",
        "\n",
        "*  X: data \n",
        "*  n:number of layers\n",
        "*  parameters : w and b (output of initilizer) \n",
        "\n",
        "\n",
        "\n",
        "other params :\n",
        "\n",
        "*  A_prev: X or A (activation) of a prev layer\n",
        "*  w : weight  \n",
        "*  b : bias\n",
        "* activationType : relu or tanh or sigmoid \n",
        "\n",
        "* A :  the output of the activation function \n",
        "\n",
        "* A_W_B_Z_dict: a dictionary with A,W,b,Z\n",
        "\n",
        "\n",
        "\n",
        "\n",
        "> \n",
        "1.  for each layer z :  z(l)=W(l)A(l-1)+b(l)\n",
        "\n",
        "\n",
        "\n",
        "\n",
        "\n"
      ]
    },
    {
      "cell_type": "code",
      "execution_count": null,
      "metadata": {
        "id": "OnnQWw7SwogY"
      },
      "outputs": [],
      "source": [
        "\n",
        "def forwardFunction(X,n, parameters):\n",
        "    caches = []\n",
        "    A = X\n",
        "    L = n-1    \n",
        "    for l in range(1, L):\n",
        "        previousA = A\n",
        "        W=parameters['W' + str(l)]\n",
        "        b=parameters['b' + str(l)]\n",
        "        A_W_b_dict = (previousA, W, b)\n",
        "        Z = np.dot(W, previousA) + b #linear part\n",
        "        A = relu(Z)    #non linear      \n",
        "        A_W_B_Z_dict = (A_W_b_dict, Z)\n",
        "        caches.append(A_W_B_Z_dict)\n",
        "\n",
        "\n",
        "    W=parameters['W' + str(L)]\n",
        "    b=parameters['b' + str(L)]\n",
        "    Z = np.dot(W, A) + b\n",
        "    A_W_b_dict = (A, W, b)\n",
        "    AL = sigmoid(Z)\n",
        "    A_W_B_Z_dict = (A_W_b_dict, Z)\n",
        "\n",
        "  \n",
        "    caches.append(A_W_B_Z_dict)\n",
        "\n",
        "    return AL, caches\n"
      ]
    },
    {
      "cell_type": "markdown",
      "metadata": {
        "id": "aSx2-TsDx9Hm"
      },
      "source": [
        "### ◼ compute cost function \n",
        "\n",
        "\n",
        " \n",
        "*compute_cost :*\n",
        "\n",
        "> input:\n",
        "\n",
        "*  AL  : probability vector  and from forward function \n",
        "*  Y\n",
        "\n",
        "\n",
        "> output:\n",
        "\n",
        "* cost \n",
        "\n",
        "\n"
      ]
    },
    {
      "cell_type": "code",
      "execution_count": null,
      "metadata": {
        "id": "DzryJCISyY78"
      },
      "outputs": [],
      "source": [
        "\n",
        "def compute_cost(AL, Y):\n",
        "    m = Y.shape[1]\n",
        "    cost = (-1/m) * (np.dot(Y, np.log(AL).T) + np.dot((1-Y), np.log(1-AL).T))\n",
        "    return cost"
      ]
    },
    {
      "cell_type": "markdown",
      "metadata": {
        "id": "9fEX-_MC9XXB"
      },
      "source": [
        "### ◼ backward propagation\n"
      ]
    },
    {
      "cell_type": "code",
      "execution_count": null,
      "metadata": {
        "id": "HY_7vSc588p6"
      },
      "outputs": [],
      "source": [
        "\n",
        "def backwardFunction(AL, Y, caches):\n",
        "\n",
        "    L = len(caches) \n",
        "    m = AL.shape[1]\n",
        "    Y = Y.reshape(AL.shape) \n",
        "    gradiants = {}  #gradiant of the loss function\n",
        "\n",
        "\n",
        "    current_cache = caches[L-1]  \n",
        "    AWB, Z = current_cache\n",
        "\n",
        "    dAL = - (np.divide(Y, AL) - np.divide(1 - Y, 1 - AL))  ## derivative of cost with respect to AL\n",
        "    dZ = sigmoid_backward(dAL, Z)  #dz(l)=dA(l)*g'(z(l))\n",
        "\n",
        "    A_prev, W, b = AWB\n",
        "    m = A_prev.shape[1]\n",
        "    dW = (1/m) * np.dot(dZ, A_prev.T)\n",
        "    db = (1/m) * np.sum(dZ, axis=1, keepdims=True)\n",
        "    dA_prev = np.dot(W.T, dZ)        \n",
        "\n",
        "    gradiants[\"dA\" + str(L-1)]=dA_prev\n",
        "    gradiants[\"dW\" + str(L)]=dW\n",
        "    gradiants[\"db\" + str(L)]=db         \n",
        " \n",
        "\n",
        "    for l in reversed(range(L-1)):\n",
        "\n",
        "        current_cache = caches[l]\n",
        "        \n",
        "        AWB, Z = current_cache\n",
        "\n",
        "        dZ = relu_backward( gradiants[\"dA\" + str(l + 1)], Z)\n",
        "\n",
        "        A_prev, W, b = AWB\n",
        "        m = A_prev.shape[1]\n",
        "        dW = (1/m) * np.dot(dZ, A_prev.T)\n",
        "        db = (1/m) * np.sum(dZ, axis=1, keepdims=True)\n",
        "        dA_prev = np.dot(W.T, dZ)\n",
        "\n",
        "        gradiants[\"dA\" + str(l)] = dA_prev\n",
        "        gradiants[\"dW\" + str(l + 1)] = dW\n",
        "        gradiants[\"db\" + str(l + 1)] = db\n",
        "\n",
        "    return gradiants"
      ]
    },
    {
      "cell_type": "markdown",
      "metadata": {
        "id": "6nO-cZWV9u8-"
      },
      "source": [
        "### ◼ update the parameters of the model, using gradient descent\n",
        "\n",
        "\n",
        "*  w(l)=w(l)- lr_rate*dw(l)\n",
        "\n",
        "\n",
        "*  b(l)=b(l)- lr_rate*db(l)"
      ]
    },
    {
      "cell_type": "code",
      "execution_count": null,
      "metadata": {
        "id": "soKFAekGmj56"
      },
      "outputs": [],
      "source": [
        "\n",
        "def update_parameters(parameters,dims, grads, learning_rate):\n",
        "\n",
        "    L = len(dims)-1\n",
        "  \n",
        "    for l in range(L):\n",
        "        parameters[\"W\" + str(l+1)] = parameters[\"W\" + str(l+1)] -  learning_rate * grads[\"dW\" + str(l+1)]\n",
        "        parameters[\"b\" + str(l+1)] = parameters[\"b\" + str(l+1)] - learning_rate * grads[\"db\" + str(l+1)]\n",
        "    return parameters\n"
      ]
    },
    {
      "cell_type": "markdown",
      "source": [
        "### ◼ function for implementring model\n",
        "\n",
        "\n",
        "### *in initializer function :* \n",
        "\n",
        "⭕ **first inititalize nueral network ** \n",
        "\n",
        "⬜ random initializer for random w and b  and zero initializer for zero w and b\n",
        "\n",
        "* w_b_dict : a dictionary with W and b\n",
        "\n",
        "* layersNum: number of layers \n",
        "\n",
        "\n",
        "\n",
        "\n"
      ],
      "metadata": {
        "id": "DvduMIGAaBzX"
      }
    },
    {
      "cell_type": "code",
      "execution_count": null,
      "metadata": {
        "id": "0aVQSwkuBfdh"
      },
      "outputs": [],
      "source": [
        "def implementNetwork(X, Y ,X_val, Y_val, layers_dims, lr_rate = 0.1,randomInit=1, itersNum = 1000):#lr was 0.009\n",
        "\n",
        "    np.random.seed(1)\n",
        "    itersValues=[]\n",
        "    dims=layers_dims\n",
        "    trainShape=X.shape\n",
        "    validatonShape=X_val.shape\n",
        "    \n",
        "    n = len(layers_dims) \n",
        "    print(n,\"layer\")\n",
        "\n",
        "    \n",
        "    w_b_dict = {}\n",
        "\n",
        "    if randomInit==1 :\n",
        "\n",
        "      np.random.seed(3)\n",
        "\n",
        "      for l in range(1, len(dims)):  # from 1 to number of layers\n",
        "          w_b_dict['W' + str(l)] = np.random.randn(dims[l],\n",
        "                                                    dims[l-1]) * 0.01\n",
        "          w_b_dict[\"b\" + str(l)] = np.random.randn(dims[l ], 1) * 0.01\n",
        "\n",
        "      layersNum=len(dims)\n",
        "      parameters=w_b_dict;\n",
        "\n",
        "    else :\n",
        "\n",
        "\n",
        "      for l in range(1, len(dims)):  # from 1 to number of layers\n",
        "        w_b_dict['W' + str(l)] =np.zeros((dims[l], dims[l-1]))\n",
        "        w_b_dict[\"b\" + str(l)] = np.zeros((dims[l ], 1)) \n",
        "\n",
        "      layersNum=len(dims)\n",
        "      parameters=w_b_dict;\n",
        "     \n",
        "    trainLoss=[]\n",
        "    validationLoss=[]\n",
        "    trainAccu=[]\n",
        "    validationAccu=[]\n",
        "    for i in range(0, itersNum):\n",
        "\n",
        "       \n",
        "        AL,cachedValues = forwardFunction(X,n, parameters)\n",
        "     \n",
        "        cost = compute_cost(AL, Y)\n",
        "       \n",
        "        grads = backwardFunction(AL, Y,cachedValues)\n",
        "        \n",
        "        parameters = update_parameters(parameters,dims, grads, lr_rate)\n",
        "      \n",
        "\n",
        "\n",
        "        if   i % 100 == 0:\n",
        "\n",
        "           \n",
        "\n",
        "            validationOutput,chaches = forwardFunction(X_val,n, parameters)\n",
        "\n",
        "            predict_train =predict(trainShape,Y,AL)\n",
        "            predict_val = predict(validatonShape,Y_val,validationOutput)\n",
        "\n",
        "             \n",
        "            computeTrainLoss=(compute_cost(AL, Y)[0])\n",
        "            trainLoss.append(computeTrainLoss[0])\n",
        "            \n",
        "            computeValidationLoss=(compute_cost(validationOutput, Y_val)[0])\n",
        "            validationLoss.append(computeValidationLoss[0])\n",
        "\n",
        "    \n",
        "            #percentage of true predictions\n",
        "            trainAccu.append(np.sum((predict_train == Y)/trainShape[1]))\n",
        "            validationAccu.append(np.sum((predict_val == Y_val)/validatonShape[1]))\n",
        "\n",
        "            itersValues.append(i)\n",
        "\n",
        "\n",
        "        \n",
        "  \n",
        "   \n",
        "    print(\"trainLoss\",trainLoss)\n",
        "    print(\"validationLoss\",validationLoss)\n",
        "    print(\"trainAccuracy\",validationLoss)\n",
        "    print(\"validationAccuracy\",validationAccu)\n",
        "\n",
        "    i=trainLoss.index(np.sort(trainLoss)[0])\n",
        "    print(\"\\n \\nfor best trainLoss \\ntrainloss \",trainLoss[i])\n",
        "    print(\"trainAccuracy\",trainAccu[i],\"\\n\")\n",
        "\n",
        "    i=validationLoss.index(np.sort(validationLoss)[0])\n",
        "    print(\"\\n \\nfor best validation loss \\nvalidation loss \",validationLoss[i])\n",
        "    print(\"validation Accuracy\",validationAccu[i],\"\\n\")\n",
        "\n",
        "    i=trainAccu.index(np.sort(trainAccu)[-1])\n",
        "    print(\"\\n \\nfor best trainAccuracy  \\ntrainAccuracy\",trainAccu[i])\n",
        "    print(\"trainLoss\",trainLoss[i],\"\\n\")\n",
        "\n",
        "    i=validationAccu.index(np.sort(validationAccu)[-1])\n",
        "    print(\"\\n \\nfor best validationAccuracy  \\nvalidationAccu\",validationAccu[i])\n",
        "    print(\"trainLoss\",trainLoss[i],\"\\n\")\n",
        "\n",
        "    \n",
        "\n",
        "    \n",
        "    \n",
        "    \n",
        "    return itersValues,trainLoss,validationLoss,trainAccu,validationAccu"
      ]
    },
    {
      "cell_type": "markdown",
      "source": [
        "### ◼ drawing graph function"
      ],
      "metadata": {
        "id": "bxCmybd9aXxN"
      }
    },
    {
      "cell_type": "code",
      "source": [
        "def draw_pot(title,iters,trainLoss,validationLoss,trainAccu,validationAccu):\n",
        "    fig, axs = plt.subplots(2, 2, figsize=(20, 10))\n",
        "\n",
        "    x = np.squeeze(iters)\n",
        "    axs[0, 0].plot(x,np.squeeze(trainAccu))\n",
        "    axs[0, 0].set_title('Accuracy train')\n",
        "    axs[0, 1].plot(x,trainLoss, 'tab:orange')\n",
        "    axs[0, 1].set_title('loss train')\n",
        "    axs[1, 0].plot(x, np.squeeze(validationAccu), 'tab:green')\n",
        "    axs[1, 0].set_title('Accuracy val')\n",
        "    axs[1, 1].plot(x, validationLoss, 'tab:red')\n",
        "    axs[1, 1].set_title('loss val')\n",
        "    plt.suptitle(title, fontsize=20, fontweight='bold')\n",
        "    for ax in axs.flat:\n",
        "        ax.set(xlabel='Itration', ylabel='Percentage', ylim=[0, 1])\n",
        "\n",
        "    # Hide x labels and tick labels for top plots and y ticks for right plots.\n",
        "    # for ax in axs.flat:\n",
        "    #     ax.label_outer()"
      ],
      "metadata": {
        "id": "w4j5DAEfaUP2"
      },
      "execution_count": null,
      "outputs": []
    },
    {
      "cell_type": "markdown",
      "metadata": {
        "id": "41e1rLFSCply"
      },
      "source": [
        "### ◼ call implement model function"
      ]
    },
    {
      "cell_type": "markdown",
      "source": [
        "### 2 layer random initialization"
      ],
      "metadata": {
        "id": "bDlJoQ2wKh9t"
      }
    },
    {
      "cell_type": "code",
      "execution_count": null,
      "metadata": {
        "colab": {
          "base_uri": "https://localhost:8080/"
        },
        "id": "QP3JzzUrEgBo",
        "outputId": "c155f1a1-b136-49e9-82ba-fad754dc9f82"
      },
      "outputs": [
        {
          "output_type": "stream",
          "name": "stdout",
          "text": [
            "2 layer\n",
            "trainLoss [0.6936859367161485, 0.46167168355550353, 0.41250670725995975, 0.3885543710389004, 0.37351830568280076, 0.3627939182923593, 0.35458115247816646, 0.34801111744449403, 0.342599447463595, 0.3380474939197057]\n",
            "validationLoss [0.6878179498182379, 0.5487724471458746, 0.49782653564337587, 0.4749133744543341, 0.46187343660056684, 0.45352575109831694, 0.4478305242462689, 0.4438018364769299, 0.44089352718779107, 0.4387736024983775]\n",
            "trainAccuracy [0.6878179498182379, 0.5487724471458746, 0.49782653564337587, 0.4749133744543341, 0.46187343660056684, 0.45352575109831694, 0.4478305242462689, 0.4438018364769299, 0.44089352718779107, 0.4387736024983775]\n",
            "validationAccuracy [0.59375, 0.7083333333333334, 0.7291666666666667, 0.7604166666666666, 0.7708333333333333, 0.78125, 0.7916666666666667, 0.8020833333333334, 0.8020833333333334, 0.8125]\n",
            "\n",
            " \n",
            "for best trainLoss \n",
            "trainloss  0.3380474939197057\n",
            "trainAccuracy 0.8359375 \n",
            "\n",
            "\n",
            " \n",
            "for best validation loss \n",
            "validation loss  0.4387736024983775\n",
            "validation Accuracy 0.8125 \n",
            "\n",
            "\n",
            " \n",
            "for best trainAccuracy  \n",
            "trainAccuracy 0.8359375\n",
            "trainLoss 0.342599447463595 \n",
            "\n",
            "\n",
            " \n",
            "for best validationAccuracy  \n",
            "validationAccu 0.8125\n",
            "trainLoss 0.3380474939197057 \n",
            "\n"
          ]
        }
      ],
      "source": [
        "iters,trainLoss,validationLoss,trainAccu,validationAccu = implementNetwork(X_train, y_train,X_val,y_val, [16, 1], itersNum = 1000)\n"
      ]
    },
    {
      "cell_type": "code",
      "execution_count": null,
      "metadata": {
        "colab": {
          "base_uri": "https://localhost:8080/",
          "height": 677
        },
        "id": "A6FIfU95UHlI",
        "outputId": "da8fa532-0995-4dc8-8e0f-4039c5f32d6b"
      },
      "outputs": [
        {
          "output_type": "display_data",
          "data": {
            "text/plain": [
              "<Figure size 1440x720 with 4 Axes>"
            ],
            "image/png": "[encoded data removed]"
          },
          "metadata": {
            "needs_background": "light"
          }
        }
      ],
      "source": [
        "draw_pot(\"2 layer random initialization\",iters,trainLoss,validationLoss,trainAccu,validationAccu)"
      ]
    },
    {
      "cell_type": "code",
      "execution_count": null,
      "metadata": {
        "colab": {
          "base_uri": "https://localhost:8080/"
        },
        "id": "2-bBWFjwU-2h",
        "outputId": "488df4ae-8558-42c0-e74f-c652673f0d72"
      },
      "outputs": [
        {
          "output_type": "stream",
          "name": "stdout",
          "text": [
            "3 layer\n",
            "trainLoss [0.692044999670896, 0.5762911385815827, 0.5252652906507949, 0.39056478461254895, 0.3389952553145704, 0.31873979691878884, 0.3082017854351299, 0.3022650875964206, 0.29877309331771207, 0.2966744143761594]\n",
            "validationLoss [0.6906726841194886, 0.6999464767788892, 0.6588434837451805, 0.48452455307708675, 0.43819856288362813, 0.4318155084458171, 0.4345624644365052, 0.43923722246189034, 0.44371892942929014, 0.44768835220690156]\n",
            "trainAccuracy [0.6906726841194886, 0.6999464767788892, 0.6588434837451805, 0.48452455307708675, 0.43819856288362813, 0.4318155084458171, 0.4345624644365052, 0.43923722246189034, 0.44371892942929014, 0.44768835220690156]\n",
            "validationAccuracy [0.59375, 0.59375, 0.59375, 0.7291666666666666, 0.7916666666666667, 0.8125, 0.8020833333333333, 0.8125, 0.8020833333333334, 0.8020833333333334]\n",
            "\n",
            " \n",
            "for best trainLoss \n",
            "trainloss  0.2966744143761594\n",
            "trainAccuracy 0.8619791666666666 \n",
            "\n",
            "\n",
            " \n",
            "for best validation loss \n",
            "validation loss  0.4318155084458171\n",
            "validation Accuracy 0.8125 \n",
            "\n",
            "\n",
            " \n",
            "for best trainAccuracy  \n",
            "trainAccuracy 0.8619791666666666\n",
            "trainLoss 0.2966744143761594 \n",
            "\n",
            "\n",
            " \n",
            "for best validationAccuracy  \n",
            "validationAccu 0.8125\n",
            "trainLoss 0.31873979691878884 \n",
            "\n"
          ]
        }
      ],
      "source": [
        "iters,trainLoss,validationLoss,trainAccu,validationAccu = implementNetwork(X_train, y_train,X_val,y_val, [16,25, 1], itersNum = 1000)\n"
      ]
    },
    {
      "cell_type": "code",
      "execution_count": null,
      "metadata": {
        "colab": {
          "base_uri": "https://localhost:8080/",
          "height": 677
        },
        "id": "hgRMUCPVVJWX",
        "outputId": "da1fbf0a-eed9-4f6e-a021-8fafce041bab"
      },
      "outputs": [
        {
          "output_type": "display_data",
          "data": {
            "text/plain": [
              "<Figure size 1440x720 with 4 Axes>"
            ],
            "image/png": "[encoded data removed]"
          },
          "metadata": {
            "needs_background": "light"
          }
        }
      ],
      "source": [
        "draw_pot(\"3 layer random initialization\",iters,trainLoss,validationLoss,trainAccu,validationAccu)\n"
      ]
    },
    {
      "cell_type": "code",
      "execution_count": null,
      "metadata": {
        "colab": {
          "base_uri": "https://localhost:8080/"
        },
        "id": "eL89QCr9VhKJ",
        "outputId": "7e718a09-7526-467b-d8c3-09c2ddd73634"
      },
      "outputs": [
        {
          "output_type": "stream",
          "name": "stdout",
          "text": [
            "5 layer\n",
            "trainLoss [0.6905746943937583, 0.5828118327328489, 0.5815126848192232, 0.5814899627518391, 0.5814895372977732, 0.5814895214280323, 0.5814895159602556, 0.5814895118708573, 0.5814895079783767, 0.5814895040034584]\n",
            "validationLoss [0.6900941384179446, 0.7057191817154164, 0.717958000101999, 0.7197292797789554, 0.7199724088118116, 0.7200055724782081, 0.720010095334078, 0.7200107122812027, 0.7200107959235507, 0.7200108068307192]\n",
            "trainAccuracy [0.6900941384179446, 0.7057191817154164, 0.717958000101999, 0.7197292797789554, 0.7199724088118116, 0.7200055724782081, 0.720010095334078, 0.7200107122812027, 0.7200107959235507, 0.7200108068307192]\n",
            "validationAccuracy [0.59375, 0.59375, 0.59375, 0.59375, 0.59375, 0.59375, 0.59375, 0.59375, 0.59375, 0.59375]\n",
            "\n",
            " \n",
            "for best trainLoss \n",
            "trainloss  0.5814895040034584\n",
            "trainAccuracy 0.7317708333333333 \n",
            "\n",
            "\n",
            " \n",
            "for best validation loss \n",
            "validation loss  0.6900941384179446\n",
            "validation Accuracy 0.59375 \n",
            "\n",
            "\n",
            " \n",
            "for best trainAccuracy  \n",
            "trainAccuracy 0.7317708333333333\n",
            "trainLoss 0.6905746943937583 \n",
            "\n",
            "\n",
            " \n",
            "for best validationAccuracy  \n",
            "validationAccu 0.59375\n",
            "trainLoss 0.6905746943937583 \n",
            "\n"
          ]
        }
      ],
      "source": [
        "iters,trainLoss,validationLoss,trainAccu,validationAccu = implementNetwork(X_train, y_train,X_val,y_val, [16,25,52,26, 1], itersNum = 1000)\n"
      ]
    },
    {
      "cell_type": "code",
      "execution_count": null,
      "metadata": {
        "colab": {
          "base_uri": "https://localhost:8080/",
          "height": 677
        },
        "id": "3zWmrr03Vk10",
        "outputId": "0413499f-7bfa-4f20-86e4-4a33c248aa96"
      },
      "outputs": [
        {
          "output_type": "display_data",
          "data": {
            "text/plain": [
              "<Figure size 1440x720 with 4 Axes>"
            ],
            "image/png": "[encoded data removed]"
          },
          "metadata": {
            "needs_background": "light"
          }
        }
      ],
      "source": [
        "draw_pot(\"5 layer random initialization\",iters,trainLoss,validationLoss,trainAccu,validationAccu)\n"
      ]
    },
    {
      "cell_type": "code",
      "source": [
        "iters,trainLoss,validationLoss,trainAccu,validationAccu = implementNetwork(X_train, y_train,X_val,y_val, [16, 1],randomInit=0, itersNum = 1000)\n"
      ],
      "metadata": {
        "colab": {
          "base_uri": "https://localhost:8080/"
        },
        "id": "dK14xNOCV07x",
        "outputId": "70406bad-0d76-4bd1-da18-5c397119e9d0"
      },
      "execution_count": null,
      "outputs": [
        {
          "output_type": "stream",
          "name": "stdout",
          "text": [
            "2 layer\n",
            "trainLoss [0.6931471805599452, 0.46144960049106115, 0.4122574311755374, 0.3883387187118766, 0.3733395072310082, 0.3626461276375533, 0.3544582043719487, 0.3479079879286152, 0.3425122562186079, 0.33797326282324575]\n",
            "validationLoss [0.6880968167370585, 0.5484632574785481, 0.4975394253424857, 0.47470808624007876, 0.4617380488848315, 0.45344186089791416, 0.4477832018330741, 0.44378024502825913, 0.4408900263906812, 0.43878283197781937]\n",
            "trainAccuracy [0.6880968167370585, 0.5484632574785481, 0.4975394253424857, 0.47470808624007876, 0.4617380488848315, 0.45344186089791416, 0.4477832018330741, 0.44378024502825913, 0.4408900263906812, 0.43878283197781937]\n",
            "validationAccuracy [0.59375, 0.7083333333333334, 0.7291666666666667, 0.7604166666666667, 0.7708333333333333, 0.78125, 0.7916666666666667, 0.8020833333333334, 0.8020833333333334, 0.8125]\n",
            "\n",
            " \n",
            "for best trainLoss \n",
            "trainloss  0.33797326282324575\n",
            "trainAccuracy 0.8359375 \n",
            "\n",
            "\n",
            " \n",
            "for best validation loss \n",
            "validation loss  0.43878283197781937\n",
            "validation Accuracy 0.8125 \n",
            "\n",
            "\n",
            " \n",
            "for best trainAccuracy  \n",
            "trainAccuracy 0.8359375\n",
            "trainLoss 0.3425122562186079 \n",
            "\n",
            "\n",
            " \n",
            "for best validationAccuracy  \n",
            "validationAccu 0.8125\n",
            "trainLoss 0.33797326282324575 \n",
            "\n"
          ]
        }
      ]
    },
    {
      "cell_type": "code",
      "source": [
        "draw_pot(\"2 layer zero initialization\",iters,trainLoss,validationLoss,trainAccu,validationAccu)\n"
      ],
      "metadata": {
        "colab": {
          "base_uri": "https://localhost:8080/",
          "height": 677
        },
        "id": "qUnkR8r9WfiX",
        "outputId": "1a8746cc-ef3b-476f-f94d-afe9aead81d0"
      },
      "execution_count": null,
      "outputs": [
        {
          "output_type": "display_data",
          "data": {
            "text/plain": [
              "<Figure size 1440x720 with 4 Axes>"
            ],
            "image/png": "[encoded data removed]"
          },
          "metadata": {
            "needs_background": "light"
          }
        }
      ]
    },
    {
      "cell_type": "code",
      "source": [
        "iters,trainLoss,validationLoss,trainAccu,validationAccu = implementNetwork(X_train, y_train,X_val,y_val, [16,25, 1],randomInit=0, itersNum = 1000)\n"
      ],
      "metadata": {
        "colab": {
          "base_uri": "https://localhost:8080/"
        },
        "id": "DSKk1IzXZPmb",
        "outputId": "dbaa194d-9bef-47f3-bd71-fd44aa19734c"
      },
      "execution_count": null,
      "outputs": [
        {
          "output_type": "stream",
          "name": "stdout",
          "text": [
            "3 layer\n",
            "trainLoss [0.6931471805599452, 0.582855331239272, 0.5815139203797091, 0.5814900215866725, 0.5814895720264031, 0.5814895635065576, 0.5814895633449282, 0.5814895633418616, 0.5814895633418034, 0.5814895633418021]\n",
            "validationLoss [0.691041474643566, 0.7055082426456362, 0.7179052791436288, 0.7197189209030622, 0.7199705737747442, 0.7200052722969496, 0.7200100525377378, 0.7200107110103225, 0.720010801712689, 0.7200108142066048]\n",
            "trainAccuracy [0.691041474643566, 0.7055082426456362, 0.7179052791436288, 0.7197189209030622, 0.7199705737747442, 0.7200052722969496, 0.7200100525377378, 0.7200107110103225, 0.720010801712689, 0.7200108142066048]\n",
            "validationAccuracy [0.59375, 0.59375, 0.59375, 0.59375, 0.59375, 0.59375, 0.59375, 0.59375, 0.59375, 0.59375]\n",
            "\n",
            " \n",
            "for best trainLoss \n",
            "trainloss  0.5814895633418021\n",
            "trainAccuracy 0.7317708333333333 \n",
            "\n",
            "\n",
            " \n",
            "for best validation loss \n",
            "validation loss  0.691041474643566\n",
            "validation Accuracy 0.59375 \n",
            "\n",
            "\n",
            " \n",
            "for best trainAccuracy  \n",
            "trainAccuracy 0.7317708333333333\n",
            "trainLoss 0.582855331239272 \n",
            "\n",
            "\n",
            " \n",
            "for best validationAccuracy  \n",
            "validationAccu 0.59375\n",
            "trainLoss 0.6931471805599452 \n",
            "\n"
          ]
        }
      ]
    },
    {
      "cell_type": "code",
      "source": [
        "draw_pot(\"3 layer zero initialization\",iters,trainLoss,validationLoss,trainAccu,validationAccu)\n"
      ],
      "metadata": {
        "colab": {
          "base_uri": "https://localhost:8080/",
          "height": 677
        },
        "id": "bhDBPGG6ZTup",
        "outputId": "ff8f0b4c-c4f8-4d68-f468-9a04d4954e9d"
      },
      "execution_count": null,
      "outputs": [
        {
          "output_type": "display_data",
          "data": {
            "text/plain": [
              "<Figure size 1440x720 with 4 Axes>"
            ],
            "image/png": "[encoded data removed]"
          },
          "metadata": {
            "needs_background": "light"
          }
        }
      ]
    },
    {
      "cell_type": "code",
      "source": [
        "iters,trainLoss,validationLoss,trainAccu,validationAccu = implementNetwork(X_train, y_train,X_val,y_val, [16,25,52,26, 1],randomInit=0, itersNum = 1000)\n"
      ],
      "metadata": {
        "colab": {
          "base_uri": "https://localhost:8080/"
        },
        "id": "AecplmnFZcfk",
        "outputId": "c5ddcbe1-12ac-4b9d-b81b-69b65c93d10b"
      },
      "execution_count": null,
      "outputs": [
        {
          "output_type": "stream",
          "name": "stdout",
          "text": [
            "5 layer\n",
            "trainLoss [0.6931471805599452, 0.582855331239272, 0.5815139203797091, 0.5814900215866725, 0.5814895720264031, 0.5814895635065576, 0.5814895633449282, 0.5814895633418616, 0.5814895633418034, 0.5814895633418021]\n",
            "validationLoss [0.691041474643566, 0.7055082426456362, 0.7179052791436288, 0.7197189209030622, 0.7199705737747442, 0.7200052722969496, 0.7200100525377378, 0.7200107110103225, 0.720010801712689, 0.7200108142066048]\n",
            "trainAccuracy [0.691041474643566, 0.7055082426456362, 0.7179052791436288, 0.7197189209030622, 0.7199705737747442, 0.7200052722969496, 0.7200100525377378, 0.7200107110103225, 0.720010801712689, 0.7200108142066048]\n",
            "validationAccuracy [0.59375, 0.59375, 0.59375, 0.59375, 0.59375, 0.59375, 0.59375, 0.59375, 0.59375, 0.59375]\n",
            "\n",
            " \n",
            "for best trainLoss \n",
            "trainloss  0.5814895633418021\n",
            "trainAccuracy 0.7317708333333333 \n",
            "\n",
            "\n",
            " \n",
            "for best validation loss \n",
            "validation loss  0.691041474643566\n",
            "validation Accuracy 0.59375 \n",
            "\n",
            "\n",
            " \n",
            "for best trainAccuracy  \n",
            "trainAccuracy 0.7317708333333333\n",
            "trainLoss 0.582855331239272 \n",
            "\n",
            "\n",
            " \n",
            "for best validationAccuracy  \n",
            "validationAccu 0.59375\n",
            "trainLoss 0.6931471805599452 \n",
            "\n"
          ]
        }
      ]
    },
    {
      "cell_type": "code",
      "source": [
        "draw_pot(\"5 layer zero initialization\",iters,trainLoss,validationLoss,trainAccu,validationAccu)\n"
      ],
      "metadata": {
        "colab": {
          "base_uri": "https://localhost:8080/",
          "height": 677
        },
        "id": "gi81k26TZjIc",
        "outputId": "89f15097-a7b0-415a-d80b-ea1879f5f81f"
      },
      "execution_count": null,
      "outputs": [
        {
          "output_type": "display_data",
          "data": {
            "text/plain": [
              "<Figure size 1440x720 with 4 Axes>"
            ],
            "image/png": "[encoded data removed]"
          },
          "metadata": {
            "needs_background": "light"
          }
        }
      ]
    },
    {
      "cell_type": "code",
      "source": [
        ""
      ],
      "metadata": {
        "id": "5Bh4zR2VuBNm"
      },
      "execution_count": null,
      "outputs": []
    }
  ],
  "metadata": {
    "colab": {
      "collapsed_sections": [
        "41e1rLFSCply"
      ],
      "name": "finalDP",
      "provenance": []
    },
    "kernelspec": {
      "display_name": "Python 3",
      "name": "python3"
    },
    "language_info": {
      "name": "python"
    }
  },
  "nbformat": 4,
  "nbformat_minor": 0
}